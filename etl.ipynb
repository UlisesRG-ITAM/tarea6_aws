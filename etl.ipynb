{
 "cells": [
  {
   "cell_type": "markdown",
   "metadata": {},
   "source": [
    "# Tarea 6\n",
    "## Alumno: Ulises Reyes García\n",
    "\n",
    "El siguiente notebook contiene el proceso mediante el cual se ejecutan procesos PARA:\n",
    "\n",
    "- ETL:\n",
    "    - Descargar datos de BANXICO (tasa de interés, inflación y tipo de cambio)\n",
    "    - Limpiar datos y convertir al formato adecuado (CSV)\n",
    "    - Cargar los datos a un bucket de S3\n",
    "- ELT:\n",
    "    - Crear tablas en Athena\n",
    "    - Ejecutar queries desde las tablas creadas para generar una 'sábana analítica' que contenga los 3 datos\n",
    "    - Entrenar una regresión por cada combinación de datos\n",
    "    - Mostrar resultados de las regresiones"
   ]
  },
  {
   "cell_type": "markdown",
   "metadata": {},
   "source": [
    "# Importar librerías"
   ]
  },
  {
   "cell_type": "code",
   "execution_count": 2,
   "metadata": {},
   "outputs": [],
   "source": [
    "import configparser\n",
    "import pandas as pd\n",
    "import boto3\n",
    "from sie_banxico import SIEBanxico"
   ]
  },
  {
   "cell_type": "markdown",
   "metadata": {},
   "source": [
    "# Descargar config file"
   ]
  },
  {
   "cell_type": "markdown",
   "metadata": {},
   "source": [
    "El siguiente archivo contiene las credenciales y parámetros requeridos para ejecutar nuestros procesos."
   ]
  },
  {
   "cell_type": "code",
   "execution_count": 5,
   "metadata": {},
   "outputs": [
    {
     "data": {
      "text/plain": [
       "['config.ini']"
      ]
     },
     "execution_count": 5,
     "metadata": {},
     "output_type": "execute_result"
    }
   ],
   "source": [
    "config = configparser.ConfigParser()\n",
    "config.read('config.ini')"
   ]
  },
  {
   "cell_type": "markdown",
   "metadata": {},
   "source": [
    "# Descargar datos de Banxico"
   ]
  },
  {
   "cell_type": "markdown",
   "metadata": {},
   "source": [
    "Los datos requeridos para nuestro análisis pueden ser extraídos desde el servicio de BANXICO:\n",
    "\n",
    "- Tasa de interés (CETES a 365 días)\n",
    "- Inflación mensual (vía INPC)\n",
    "- Tipo de cambio FIX MXN/USD"
   ]
  },
  {
   "cell_type": "markdown",
   "metadata": {},
   "source": [
    "Importamos nuestra credencial para el servicio de BANXICO:"
   ]
  },
  {
   "cell_type": "code",
   "execution_count": 6,
   "metadata": {},
   "outputs": [],
   "source": [
    "banxico_token = config['banxico']['token']"
   ]
  },
  {
   "cell_type": "markdown",
   "metadata": {},
   "source": [
    "Descargamos tablas usando los ID's pertinentes:"
   ]
  },
  {
   "cell_type": "code",
   "execution_count": 36,
   "metadata": {},
   "outputs": [],
   "source": [
    "# Tipo de cambio FIX: SF17908\n",
    "# Inflación (INPC) mensual : SP30577\n",
    "# CETES 364 días: SF3367\n",
    "\n",
    "api = SIEBanxico(token = banxico_token, id_series = ['SF17908' ,'SP30577', 'SF3367'], language = 'es')"
   ]
  },
  {
   "cell_type": "code",
   "execution_count": 37,
   "metadata": {},
   "outputs": [],
   "source": [
    "series_banxico = api.get_timeseries()"
   ]
  },
  {
   "cell_type": "markdown",
   "metadata": {},
   "source": [
    "# Limpiar datos"
   ]
  },
  {
   "cell_type": "markdown",
   "metadata": {},
   "source": [
    "Las series son expuestas en un formato de diccionario. Es necesario crear dataframe de Pandas para poder manipular la información:"
   ]
  },
  {
   "cell_type": "code",
   "execution_count": 81,
   "metadata": {},
   "outputs": [],
   "source": [
    "df_indicadores = {}\n",
    "\n",
    "for series in series_banxico['bmx']['series']:\n",
    "    df_indicadores[series['idSerie']] = pd.DataFrame(series['datos'])"
   ]
  },
  {
   "cell_type": "markdown",
   "metadata": {},
   "source": [
    "Limpiamos los datos nulos (representados por el string 'N/E') y convertimos las fechas al formato adecuado."
   ]
  },
  {
   "cell_type": "code",
   "execution_count": 83,
   "metadata": {},
   "outputs": [],
   "source": [
    "for series in df_indicadores.keys():\n",
    "    df_indicadores[series] = df_indicadores[series][df_indicadores[series]['dato']!='N/E']\n",
    "    df_indicadores[series]['fecha'] = pd.to_datetime(df_indicadores[series]['fecha'], format = \"%d/%m/%Y\")"
   ]
  },
  {
   "cell_type": "markdown",
   "metadata": {},
   "source": [
    "Renombramos nombres de columnas:"
   ]
  },
  {
   "cell_type": "code",
   "execution_count": 84,
   "metadata": {},
   "outputs": [],
   "source": [
    "df_indicadores['SF17908'] = df_indicadores['SF17908'].rename({'dato':'tipo_cambio'}, axis = 1)\n",
    "df_indicadores['SP30577'] = df_indicadores['SP30577'].rename({'dato':'inflacion_inpc'}, axis = 1)\n",
    "df_indicadores['SF3367'] = df_indicadores['SF3367'].rename({'dato':'cetes_365'}, axis = 1)"
   ]
  },
  {
   "cell_type": "markdown",
   "metadata": {},
   "source": [
    "# Guardar datos en CSV"
   ]
  },
  {
   "cell_type": "code",
   "execution_count": 87,
   "metadata": {},
   "outputs": [],
   "source": [
    "df_indicadores['SF17908'].to_csv('datos/tipo_de_cambio.csv', encoding = 'utf-8', index = False)\n",
    "df_indicadores['SP30577'].to_csv('datos/inflacion.csv', encoding = 'utf-8', index = False)\n",
    "df_indicadores['SF3367'].to_csv('datos/tasa_de_interes.csv', encoding = 'utf-8', index = False)"
   ]
  },
  {
   "cell_type": "markdown",
   "metadata": {},
   "source": [
    "# Cargar datos a AWS (S3)"
   ]
  },
  {
   "cell_type": "code",
   "execution_count": 88,
   "metadata": {},
   "outputs": [],
   "source": [
    "session = boto3.Session(profile_name='arquitectura')\n",
    "s3 = session.client('s3')"
   ]
  },
  {
   "cell_type": "code",
   "execution_count": 89,
   "metadata": {},
   "outputs": [],
   "source": [
    "BUCKET_NAME = \"itam-analytics-ulisesrg\"\n",
    "\n",
    "s3.upload_file(Filename=\"datos/tipo_de_cambio.csv\", Bucket=BUCKET_NAME, Key=\"econ/raw/tipo_de_cambio/tipo_de_cambio.csv\")\n",
    "s3.upload_file(Filename=\"datos/inflacion.csv\", Bucket=BUCKET_NAME, Key=\"econ/raw/inflacion/inflacion.csv\")\n",
    "s3.upload_file(Filename=\"datos/tasa_de_interes.csv\", Bucket=BUCKET_NAME, Key=\"econ/raw/tasa_de_interes/tasa_de_interes.csv\")"
   ]
  },
  {
   "cell_type": "markdown",
   "metadata": {},
   "source": [
    "# Crear base de datos en AWS (Glue)"
   ]
  },
  {
   "cell_type": "code",
   "execution_count": 90,
   "metadata": {},
   "outputs": [],
   "source": [
    "from botocore.config import Config\n",
    "my_config = Config(\n",
    "    region_name = 'us-east-1'\n",
    ")\n",
    "\n",
    "glue = boto3.client('glue', config=my_config)"
   ]
  },
  {
   "cell_type": "code",
   "execution_count": 91,
   "metadata": {},
   "outputs": [
    {
     "data": {
      "text/plain": [
       "{'ResponseMetadata': {'RequestId': '12322ac7-4c1d-40c4-afe7-d573bbfcbeb5',\n",
       "  'HTTPStatusCode': 200,\n",
       "  'HTTPHeaders': {'date': 'Tue, 18 Mar 2025 17:43:49 GMT',\n",
       "   'content-type': 'application/x-amz-json-1.1',\n",
       "   'content-length': '2',\n",
       "   'connection': 'keep-alive',\n",
       "   'x-amzn-requestid': '12322ac7-4c1d-40c4-afe7-d573bbfcbeb5',\n",
       "   'cache-control': 'no-cache'},\n",
       "  'RetryAttempts': 0}}"
      ]
     },
     "execution_count": 91,
     "metadata": {},
     "output_type": "execute_result"
    }
   ],
   "source": [
    "response = glue.create_database(\n",
    "    DatabaseInput={\n",
    "        'Name': 'econ',\n",
    "        'Description': 'Datos de inflación, tipo de cambio y tasa de interés.',\n",
    "    },\n",
    ")\n",
    "response"
   ]
  },
  {
   "cell_type": "markdown",
   "metadata": {},
   "source": [
    "# Crear tablas en AWS (Athena)"
   ]
  },
  {
   "cell_type": "code",
   "execution_count": 92,
   "metadata": {},
   "outputs": [],
   "source": [
    "import awswrangler as wr"
   ]
  },
  {
   "cell_type": "markdown",
   "metadata": {},
   "source": [
    "### Inflación"
   ]
  },
  {
   "cell_type": "code",
   "execution_count": 94,
   "metadata": {},
   "outputs": [],
   "source": [
    "query = '''\n",
    "    CREATE EXTERNAL TABLE IF NOT EXISTS `econ`.`inflacion` (\n",
    "    `fecha` date,\n",
    "    `inflacion_inpc` float\n",
    "    ) COMMENT \"Inflación mensual vía INPC.\"\n",
    "    ROW FORMAT SERDE 'org.apache.hadoop.hive.serde2.lazy.LazySimpleSerDe'\n",
    "    WITH SERDEPROPERTIES ('field.delim' = ',')\n",
    "    STORED AS INPUTFORMAT 'org.apache.hadoop.mapred.TextInputFormat' \n",
    "    OUTPUTFORMAT 'org.apache.hadoop.hive.ql.io.HiveIgnoreKeyTextOutputFormat'\n",
    "    LOCATION 's3://itam-analytics-ulisesrg/econ/raw/inflacion/'\n",
    "    TBLPROPERTIES ('classification' = 'csv', \"skip.header.line.count\"=\"1\");\n",
    "'''"
   ]
  },
  {
   "cell_type": "code",
   "execution_count": 95,
   "metadata": {},
   "outputs": [
    {
     "data": {
      "text/html": [
       "<div>\n",
       "<style scoped>\n",
       "    .dataframe tbody tr th:only-of-type {\n",
       "        vertical-align: middle;\n",
       "    }\n",
       "\n",
       "    .dataframe tbody tr th {\n",
       "        vertical-align: top;\n",
       "    }\n",
       "\n",
       "    .dataframe thead th {\n",
       "        text-align: right;\n",
       "    }\n",
       "</style>\n",
       "<table border=\"1\" class=\"dataframe\">\n",
       "  <thead>\n",
       "    <tr style=\"text-align: right;\">\n",
       "      <th></th>\n",
       "    </tr>\n",
       "  </thead>\n",
       "  <tbody>\n",
       "  </tbody>\n",
       "</table>\n",
       "</div>"
      ],
      "text/plain": [
       "Empty DataFrame\n",
       "Columns: []\n",
       "Index: []"
      ]
     },
     "execution_count": 95,
     "metadata": {},
     "output_type": "execute_result"
    }
   ],
   "source": [
    "wr.athena.read_sql_query(\n",
    "    query, \n",
    "    database=\"econ\", \n",
    "    ctas_approach=False, \n",
    "    boto3_session=session\n",
    ")"
   ]
  },
  {
   "cell_type": "markdown",
   "metadata": {},
   "source": [
    "### Tipo de Cambio"
   ]
  },
  {
   "cell_type": "code",
   "execution_count": 96,
   "metadata": {},
   "outputs": [],
   "source": [
    "query = '''\n",
    "    CREATE EXTERNAL TABLE IF NOT EXISTS `econ`.`tipo_de_cambio` (\n",
    "    `fecha` date,\n",
    "    `tipo_cambio` float\n",
    "    ) COMMENT \"Inflación mensual vía INPC.\"\n",
    "    ROW FORMAT SERDE 'org.apache.hadoop.hive.serde2.lazy.LazySimpleSerDe'\n",
    "    WITH SERDEPROPERTIES ('field.delim' = ',')\n",
    "    STORED AS INPUTFORMAT 'org.apache.hadoop.mapred.TextInputFormat' \n",
    "    OUTPUTFORMAT 'org.apache.hadoop.hive.ql.io.HiveIgnoreKeyTextOutputFormat'\n",
    "    LOCATION 's3://itam-analytics-ulisesrg/econ/raw/tipo_de_cambio/'\n",
    "    TBLPROPERTIES ('classification' = 'csv', \"skip.header.line.count\"=\"1\");\n",
    "'''"
   ]
  },
  {
   "cell_type": "code",
   "execution_count": 97,
   "metadata": {},
   "outputs": [
    {
     "data": {
      "text/html": [
       "<div>\n",
       "<style scoped>\n",
       "    .dataframe tbody tr th:only-of-type {\n",
       "        vertical-align: middle;\n",
       "    }\n",
       "\n",
       "    .dataframe tbody tr th {\n",
       "        vertical-align: top;\n",
       "    }\n",
       "\n",
       "    .dataframe thead th {\n",
       "        text-align: right;\n",
       "    }\n",
       "</style>\n",
       "<table border=\"1\" class=\"dataframe\">\n",
       "  <thead>\n",
       "    <tr style=\"text-align: right;\">\n",
       "      <th></th>\n",
       "    </tr>\n",
       "  </thead>\n",
       "  <tbody>\n",
       "  </tbody>\n",
       "</table>\n",
       "</div>"
      ],
      "text/plain": [
       "Empty DataFrame\n",
       "Columns: []\n",
       "Index: []"
      ]
     },
     "execution_count": 97,
     "metadata": {},
     "output_type": "execute_result"
    }
   ],
   "source": [
    "wr.athena.read_sql_query(\n",
    "    query, \n",
    "    database=\"econ\", \n",
    "    ctas_approach=False, \n",
    "    boto3_session=session\n",
    ")"
   ]
  },
  {
   "cell_type": "markdown",
   "metadata": {},
   "source": [
    "### Tasa de Interés"
   ]
  },
  {
   "cell_type": "code",
   "execution_count": 98,
   "metadata": {},
   "outputs": [],
   "source": [
    "query = '''\n",
    "    CREATE EXTERNAL TABLE IF NOT EXISTS `econ`.`tasa_de_interes` (\n",
    "    `fecha` date,\n",
    "    `cetes_365` float\n",
    "    ) COMMENT \"Inflación mensual vía INPC.\"\n",
    "    ROW FORMAT SERDE 'org.apache.hadoop.hive.serde2.lazy.LazySimpleSerDe'\n",
    "    WITH SERDEPROPERTIES ('field.delim' = ',')\n",
    "    STORED AS INPUTFORMAT 'org.apache.hadoop.mapred.TextInputFormat' \n",
    "    OUTPUTFORMAT 'org.apache.hadoop.hive.ql.io.HiveIgnoreKeyTextOutputFormat'\n",
    "    LOCATION 's3://itam-analytics-ulisesrg/econ/raw/tasa_de_interes/'\n",
    "    TBLPROPERTIES ('classification' = 'csv', \"skip.header.line.count\"=\"1\");\n",
    "'''"
   ]
  },
  {
   "cell_type": "code",
   "execution_count": 99,
   "metadata": {},
   "outputs": [
    {
     "data": {
      "text/html": [
       "<div>\n",
       "<style scoped>\n",
       "    .dataframe tbody tr th:only-of-type {\n",
       "        vertical-align: middle;\n",
       "    }\n",
       "\n",
       "    .dataframe tbody tr th {\n",
       "        vertical-align: top;\n",
       "    }\n",
       "\n",
       "    .dataframe thead th {\n",
       "        text-align: right;\n",
       "    }\n",
       "</style>\n",
       "<table border=\"1\" class=\"dataframe\">\n",
       "  <thead>\n",
       "    <tr style=\"text-align: right;\">\n",
       "      <th></th>\n",
       "    </tr>\n",
       "  </thead>\n",
       "  <tbody>\n",
       "  </tbody>\n",
       "</table>\n",
       "</div>"
      ],
      "text/plain": [
       "Empty DataFrame\n",
       "Columns: []\n",
       "Index: []"
      ]
     },
     "execution_count": 99,
     "metadata": {},
     "output_type": "execute_result"
    }
   ],
   "source": [
    "wr.athena.read_sql_query(\n",
    "    query, \n",
    "    database=\"econ\", \n",
    "    ctas_approach=False, \n",
    "    boto3_session=session\n",
    ")"
   ]
  },
  {
   "cell_type": "markdown",
   "metadata": {},
   "source": [
    "### Query y creación de tabla única"
   ]
  },
  {
   "cell_type": "markdown",
   "metadata": {},
   "source": [
    "El siguiente query crea, mediante un JOIN, una tabla única que combina mis 3 tipos de datos mensuales en una sola tabla:"
   ]
  },
  {
   "cell_type": "code",
   "execution_count": 112,
   "metadata": {},
   "outputs": [],
   "source": [
    "query = '''\n",
    "    SELECT inf.fecha, inf.inflacion_inpc, cam.tipo_cambio, int.cetes_365\n",
    "    FROM \"econ\".\"inflacion\" as inf\n",
    "    INNER JOIN \"econ\".\"tipo_de_cambio\" as cam\n",
    "    ON inf.fecha = cam.fecha\n",
    "    INNER JOIN \"econ\".\"tasa_de_interes\" as int\n",
    "    ON inf.fecha = int.fecha;\n",
    "'''"
   ]
  },
  {
   "cell_type": "markdown",
   "metadata": {},
   "source": [
    "Guardo el resultado del query anterior en un objeto 'df' de Pandas:"
   ]
  },
  {
   "cell_type": "code",
   "execution_count": 116,
   "metadata": {},
   "outputs": [],
   "source": [
    "df = wr.athena.read_sql_query(\n",
    "    query, \n",
    "    database=\"econ\", \n",
    "    ctas_approach=False, \n",
    "    boto3_session=session\n",
    ")"
   ]
  },
  {
   "cell_type": "markdown",
   "metadata": {},
   "source": [
    "### Entrenamiento de Regresiones y Scatter Plots"
   ]
  },
  {
   "cell_type": "code",
   "execution_count": 115,
   "metadata": {},
   "outputs": [],
   "source": [
    "import statsmodels.api as sm\n",
    "import matplotlib.pyplot as plt"
   ]
  },
  {
   "cell_type": "code",
   "execution_count": 119,
   "metadata": {},
   "outputs": [],
   "source": [
    "# 4. Regresiones\n",
    "# 4.1. tipo_de_cambio ~ tasa_de_interes\n",
    "X = df[['cetes_365']]\n",
    "X = sm.add_constant(X)  # Agregar término constante\n",
    "y = df['tipo_cambio']\n",
    "\n",
    "model_tc_ti = sm.OLS(y, X).fit()"
   ]
  },
  {
   "cell_type": "code",
   "execution_count": 120,
   "metadata": {},
   "outputs": [],
   "source": [
    "# 4.2. tasa_de_interes ~ inflacion\n",
    "X2 = df[['inflacion_inpc']]\n",
    "X2 = sm.add_constant(X2)\n",
    "y2 = df['cetes_365']\n",
    "\n",
    "model_ti_inf = sm.OLS(y2, X2).fit()"
   ]
  },
  {
   "cell_type": "code",
   "execution_count": 121,
   "metadata": {},
   "outputs": [],
   "source": [
    "# 4.3. tipo_de_cambio ~ inflacion\n",
    "X3 = df[['inflacion_inpc']]\n",
    "X3 = sm.add_constant(X3)\n",
    "y3 = df['tipo_cambio']\n",
    "\n",
    "model_tc_inf = sm.OLS(y3, X3).fit()"
   ]
  },
  {
   "cell_type": "code",
   "execution_count": null,
   "metadata": {},
   "outputs": [
    {
     "data": {
      "image/png": "[encoded data removed]",
      "text/plain": [
       "<Figure size 640x480 with 1 Axes>"
      ]
     },
     "metadata": {},
     "output_type": "display_data"
    }
   ],
   "source": [
    "# 5. Gráficas\n",
    "# (1) Scatter tipo_de_cambio vs tasa_de_interes con línea de regresión\n",
    "plt.figure()\n",
    "plt.scatter(df['cetes_365'], df['tipo_cambio'])\n",
    "# Calculamos el fit\n",
    "pred_line = model_tc_ti.predict(sm.add_constant(df[['cetes_365']]))\n",
    "plt.plot(df['cetes_365'], pred_line)\n",
    "plt.xlabel('cetes_365')\n",
    "plt.ylabel('tipo_cambio')\n",
    "plt.title('tipo_cambio ~ cetes_365')\n",
    "plt.show()"
   ]
  },
  {
   "cell_type": "code",
   "execution_count": 123,
   "metadata": {},
   "outputs": [
    {
     "data": {
      "image/png": "[encoded data removed]",
      "text/plain": [
       "<Figure size 640x480 with 1 Axes>"
      ]
     },
     "metadata": {},
     "output_type": "display_data"
    }
   ],
   "source": [
    "# (2) Scatter tasa_de_interes vs inflacion con línea de regresión\n",
    "plt.figure()\n",
    "plt.scatter(df['inflacion_inpc'], df['cetes_365'])\n",
    "pred_line2 = model_ti_inf.predict(sm.add_constant(df[['inflacion_inpc']]))\n",
    "plt.plot(df['inflacion_inpc'], pred_line2)\n",
    "plt.xlabel('inflacion_inpc')\n",
    "plt.ylabel('cetes_365')\n",
    "plt.title('cetes_365 ~ inflacion_inpc')\n",
    "plt.show()"
   ]
  },
  {
   "cell_type": "code",
   "execution_count": 124,
   "metadata": {},
   "outputs": [
    {
     "data": {
      "image/png": "[encoded data removed]",
      "text/plain": [
       "<Figure size 640x480 with 1 Axes>"
      ]
     },
     "metadata": {},
     "output_type": "display_data"
    }
   ],
   "source": [
    "# (3) Scatter tipo_de_cambio vs inflacion con línea de regresión\n",
    "plt.figure()\n",
    "plt.scatter(df['inflacion_inpc'], df['tipo_cambio'])\n",
    "pred_line3 = model_tc_inf.predict(sm.add_constant(df[['inflacion_inpc']]))\n",
    "plt.plot(df['inflacion_inpc'], pred_line3)\n",
    "plt.xlabel('inflacion_inpc')\n",
    "plt.ylabel('tipo_cambio')\n",
    "plt.title('tipo_cambio ~ inflacion_inpc')\n",
    "plt.show()"
   ]
  }
 ],
 "metadata": {
  "kernelspec": {
   "display_name": "arquitectura",
   "language": "python",
   "name": "python3"
  },
  "language_info": {
   "codemirror_mode": {
    "name": "ipython",
    "version": 3
   },
   "file_extension": ".py",
   "mimetype": "text/x-python",
   "name": "python",
   "nbconvert_exporter": "python",
   "pygments_lexer": "ipython3",
   "version": "3.11.11"
  }
 },
 "nbformat": 4,
 "nbformat_minor": 2
}
